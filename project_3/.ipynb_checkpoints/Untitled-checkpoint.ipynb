{
 "cells": [
  {
   "cell_type": "code",
   "execution_count": null,
   "metadata": {
    "collapsed": true
   },
   "outputs": [],
   "source": [
    "#Problem2,step 1\n",
    "def get_cell_coordinates(cell_number: Int, row_length: Int = 500): CellCoordinates = {\n",
    "    if ((cell_number>=1) && (cell_number<=250000) {            #exclude the top_neighbor_number of the first row \n",
    "                                                               #and bottom_neighbor_number of the last row                                                                                                                          \n",
    "        val x = (cell_number - 1) % row_length\n",
    "        val y = Math.floor((cell_number - 1) / row_length).toInt\n",
    "\n",
    "        val x1 = x * 20\n",
    "        val x2 = (x + 1) * 20\n",
    "\n",
    "        val y1 = y * 20\n",
    "        val y2 = (y + 1) * 20\n",
    "        return new CellCoordinates(x1, x2, y1, y2)\n",
    "    }\n",
    "}\n",
    "    "
   ]
  },
  {
   "cell_type": "code",
   "execution_count": null,
   "metadata": {
    "collapsed": true
   },
   "outputs": [],
   "source": [
    "#Problem2,step 2\n",
    "#get relative density of all cell_number\n",
    "val cell_number=0\n",
    "val writer = new PrintWriter(new File(\"data/Density.csv\"))\n",
    "for (cell_number <- 1 to 250000) {\n",
    "    val cell = get_cell_coordinates(cell_number)\n",
    "    val cellRDD = pointsRDD.filter(point => is_point_in_cell(point, cell))\n",
    "    val x_count = cellRDD.count\n",
    "\n",
    "    val cellNeighborNumbers = get_cell_neighbors(cell_number)\n",
    "    val y_count = cellNeighborNumbers.map(number => get_cell_coordinates(number)).\n",
    "                                         map(neighbor => pointsRDD.filter(point => is_point_in_cell(point, neighbor))).\n",
    "                                         map(rdd => rdd.count)\n",
    "    val y_count_average = y_count.sum / y_count.length\n",
    "\n",
    "    writer.println(cell_number, x_count.toFloat / y_count_average.toFloat)\n",
    "    }\n",
    "writer.close"
   ]
  },
  {
   "cell_type": "code",
   "execution_count": null,
   "metadata": {
    "collapsed": true
   },
   "outputs": [],
   "source": [
    "val density= sc.textFile(\"data/Density.csv\").\n",
    "                   map(line => line.split(\",\").map(elem => elem.trim))\n",
    "val sortedden=density.sortBy(_(1))\n",
    "val top50=sortedden[:,-50:]\n",
    "\n"
   ]
  }
 ],
 "metadata": {
  "anaconda-cloud": {},
  "kernelspec": {
   "display_name": "Python [conda root]",
   "language": "python",
   "name": "conda-root-py"
  },
  "language_info": {
   "codemirror_mode": {
    "name": "ipython",
    "version": 3
   },
   "file_extension": ".py",
   "mimetype": "text/x-python",
   "name": "python",
   "nbconvert_exporter": "python",
   "pygments_lexer": "ipython3",
   "version": "3.5.2"
  }
 },
 "nbformat": 4,
 "nbformat_minor": 1
}
